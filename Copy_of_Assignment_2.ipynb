{
  "nbformat": 4,
  "nbformat_minor": 0,
  "metadata": {
    "colab": {
      "provenance": [],
      "include_colab_link": true
    },
    "kernelspec": {
      "name": "python3",
      "display_name": "Python 3"
    },
    "language_info": {
      "name": "python"
    },
    "widgets": {
      "application/vnd.jupyter.widget-state+json": {
        "a1770c0b947f4a59a95441bf49f6a69d": {
          "model_module": "@jupyter-widgets/controls",
          "model_name": "HBoxModel",
          "model_module_version": "1.5.0",
          "state": {
            "_dom_classes": [],
            "_model_module": "@jupyter-widgets/controls",
            "_model_module_version": "1.5.0",
            "_model_name": "HBoxModel",
            "_view_count": null,
            "_view_module": "@jupyter-widgets/controls",
            "_view_module_version": "1.5.0",
            "_view_name": "HBoxView",
            "box_style": "",
            "children": [
              "IPY_MODEL_39ec7658f7894423b4ca463c96b3d2fd",
              "IPY_MODEL_1c0b235b39ec42dc9855c07fe032eb65",
              "IPY_MODEL_0ead968ebf384fe98bedc1a24456256d"
            ],
            "layout": "IPY_MODEL_64ca8ffc5d224dde90a3935470f0e079"
          }
        },
        "39ec7658f7894423b4ca463c96b3d2fd": {
          "model_module": "@jupyter-widgets/controls",
          "model_name": "HTMLModel",
          "model_module_version": "1.5.0",
          "state": {
            "_dom_classes": [],
            "_model_module": "@jupyter-widgets/controls",
            "_model_module_version": "1.5.0",
            "_model_name": "HTMLModel",
            "_view_count": null,
            "_view_module": "@jupyter-widgets/controls",
            "_view_module_version": "1.5.0",
            "_view_name": "HTMLView",
            "description": "",
            "description_tooltip": null,
            "layout": "IPY_MODEL_af9d675a3692453db1d0ee8464465f73",
            "placeholder": "​",
            "style": "IPY_MODEL_eceff6a292004064be444143d477df6d",
            "value": "config.json: 100%"
          }
        },
        "1c0b235b39ec42dc9855c07fe032eb65": {
          "model_module": "@jupyter-widgets/controls",
          "model_name": "FloatProgressModel",
          "model_module_version": "1.5.0",
          "state": {
            "_dom_classes": [],
            "_model_module": "@jupyter-widgets/controls",
            "_model_module_version": "1.5.0",
            "_model_name": "FloatProgressModel",
            "_view_count": null,
            "_view_module": "@jupyter-widgets/controls",
            "_view_module_version": "1.5.0",
            "_view_name": "ProgressView",
            "bar_style": "success",
            "description": "",
            "description_tooltip": null,
            "layout": "IPY_MODEL_da46c16dc79e463daedb887070e3965b",
            "max": 629,
            "min": 0,
            "orientation": "horizontal",
            "style": "IPY_MODEL_34d2ecdab8f74c9298a6f55c9d07ce4d",
            "value": 629
          }
        },
        "0ead968ebf384fe98bedc1a24456256d": {
          "model_module": "@jupyter-widgets/controls",
          "model_name": "HTMLModel",
          "model_module_version": "1.5.0",
          "state": {
            "_dom_classes": [],
            "_model_module": "@jupyter-widgets/controls",
            "_model_module_version": "1.5.0",
            "_model_name": "HTMLModel",
            "_view_count": null,
            "_view_module": "@jupyter-widgets/controls",
            "_view_module_version": "1.5.0",
            "_view_name": "HTMLView",
            "description": "",
            "description_tooltip": null,
            "layout": "IPY_MODEL_9a38217d9f1648f38e2cd45a36df8e67",
            "placeholder": "​",
            "style": "IPY_MODEL_0a41175e7fa5486284b1da59a66482b2",
            "value": " 629/629 [00:00&lt;00:00, 37.0kB/s]"
          }
        },
        "64ca8ffc5d224dde90a3935470f0e079": {
          "model_module": "@jupyter-widgets/base",
          "model_name": "LayoutModel",
          "model_module_version": "1.2.0",
          "state": {
            "_model_module": "@jupyter-widgets/base",
            "_model_module_version": "1.2.0",
            "_model_name": "LayoutModel",
            "_view_count": null,
            "_view_module": "@jupyter-widgets/base",
            "_view_module_version": "1.2.0",
            "_view_name": "LayoutView",
            "align_content": null,
            "align_items": null,
            "align_self": null,
            "border": null,
            "bottom": null,
            "display": null,
            "flex": null,
            "flex_flow": null,
            "grid_area": null,
            "grid_auto_columns": null,
            "grid_auto_flow": null,
            "grid_auto_rows": null,
            "grid_column": null,
            "grid_gap": null,
            "grid_row": null,
            "grid_template_areas": null,
            "grid_template_columns": null,
            "grid_template_rows": null,
            "height": null,
            "justify_content": null,
            "justify_items": null,
            "left": null,
            "margin": null,
            "max_height": null,
            "max_width": null,
            "min_height": null,
            "min_width": null,
            "object_fit": null,
            "object_position": null,
            "order": null,
            "overflow": null,
            "overflow_x": null,
            "overflow_y": null,
            "padding": null,
            "right": null,
            "top": null,
            "visibility": null,
            "width": null
          }
        },
        "af9d675a3692453db1d0ee8464465f73": {
          "model_module": "@jupyter-widgets/base",
          "model_name": "LayoutModel",
          "model_module_version": "1.2.0",
          "state": {
            "_model_module": "@jupyter-widgets/base",
            "_model_module_version": "1.2.0",
            "_model_name": "LayoutModel",
            "_view_count": null,
            "_view_module": "@jupyter-widgets/base",
            "_view_module_version": "1.2.0",
            "_view_name": "LayoutView",
            "align_content": null,
            "align_items": null,
            "align_self": null,
            "border": null,
            "bottom": null,
            "display": null,
            "flex": null,
            "flex_flow": null,
            "grid_area": null,
            "grid_auto_columns": null,
            "grid_auto_flow": null,
            "grid_auto_rows": null,
            "grid_column": null,
            "grid_gap": null,
            "grid_row": null,
            "grid_template_areas": null,
            "grid_template_columns": null,
            "grid_template_rows": null,
            "height": null,
            "justify_content": null,
            "justify_items": null,
            "left": null,
            "margin": null,
            "max_height": null,
            "max_width": null,
            "min_height": null,
            "min_width": null,
            "object_fit": null,
            "object_position": null,
            "order": null,
            "overflow": null,
            "overflow_x": null,
            "overflow_y": null,
            "padding": null,
            "right": null,
            "top": null,
            "visibility": null,
            "width": null
          }
        },
        "eceff6a292004064be444143d477df6d": {
          "model_module": "@jupyter-widgets/controls",
          "model_name": "DescriptionStyleModel",
          "model_module_version": "1.5.0",
          "state": {
            "_model_module": "@jupyter-widgets/controls",
            "_model_module_version": "1.5.0",
            "_model_name": "DescriptionStyleModel",
            "_view_count": null,
            "_view_module": "@jupyter-widgets/base",
            "_view_module_version": "1.2.0",
            "_view_name": "StyleView",
            "description_width": ""
          }
        },
        "da46c16dc79e463daedb887070e3965b": {
          "model_module": "@jupyter-widgets/base",
          "model_name": "LayoutModel",
          "model_module_version": "1.2.0",
          "state": {
            "_model_module": "@jupyter-widgets/base",
            "_model_module_version": "1.2.0",
            "_model_name": "LayoutModel",
            "_view_count": null,
            "_view_module": "@jupyter-widgets/base",
            "_view_module_version": "1.2.0",
            "_view_name": "LayoutView",
            "align_content": null,
            "align_items": null,
            "align_self": null,
            "border": null,
            "bottom": null,
            "display": null,
            "flex": null,
            "flex_flow": null,
            "grid_area": null,
            "grid_auto_columns": null,
            "grid_auto_flow": null,
            "grid_auto_rows": null,
            "grid_column": null,
            "grid_gap": null,
            "grid_row": null,
            "grid_template_areas": null,
            "grid_template_columns": null,
            "grid_template_rows": null,
            "height": null,
            "justify_content": null,
            "justify_items": null,
            "left": null,
            "margin": null,
            "max_height": null,
            "max_width": null,
            "min_height": null,
            "min_width": null,
            "object_fit": null,
            "object_position": null,
            "order": null,
            "overflow": null,
            "overflow_x": null,
            "overflow_y": null,
            "padding": null,
            "right": null,
            "top": null,
            "visibility": null,
            "width": null
          }
        },
        "34d2ecdab8f74c9298a6f55c9d07ce4d": {
          "model_module": "@jupyter-widgets/controls",
          "model_name": "ProgressStyleModel",
          "model_module_version": "1.5.0",
          "state": {
            "_model_module": "@jupyter-widgets/controls",
            "_model_module_version": "1.5.0",
            "_model_name": "ProgressStyleModel",
            "_view_count": null,
            "_view_module": "@jupyter-widgets/base",
            "_view_module_version": "1.2.0",
            "_view_name": "StyleView",
            "bar_color": null,
            "description_width": ""
          }
        },
        "9a38217d9f1648f38e2cd45a36df8e67": {
          "model_module": "@jupyter-widgets/base",
          "model_name": "LayoutModel",
          "model_module_version": "1.2.0",
          "state": {
            "_model_module": "@jupyter-widgets/base",
            "_model_module_version": "1.2.0",
            "_model_name": "LayoutModel",
            "_view_count": null,
            "_view_module": "@jupyter-widgets/base",
            "_view_module_version": "1.2.0",
            "_view_name": "LayoutView",
            "align_content": null,
            "align_items": null,
            "align_self": null,
            "border": null,
            "bottom": null,
            "display": null,
            "flex": null,
            "flex_flow": null,
            "grid_area": null,
            "grid_auto_columns": null,
            "grid_auto_flow": null,
            "grid_auto_rows": null,
            "grid_column": null,
            "grid_gap": null,
            "grid_row": null,
            "grid_template_areas": null,
            "grid_template_columns": null,
            "grid_template_rows": null,
            "height": null,
            "justify_content": null,
            "justify_items": null,
            "left": null,
            "margin": null,
            "max_height": null,
            "max_width": null,
            "min_height": null,
            "min_width": null,
            "object_fit": null,
            "object_position": null,
            "order": null,
            "overflow": null,
            "overflow_x": null,
            "overflow_y": null,
            "padding": null,
            "right": null,
            "top": null,
            "visibility": null,
            "width": null
          }
        },
        "0a41175e7fa5486284b1da59a66482b2": {
          "model_module": "@jupyter-widgets/controls",
          "model_name": "DescriptionStyleModel",
          "model_module_version": "1.5.0",
          "state": {
            "_model_module": "@jupyter-widgets/controls",
            "_model_module_version": "1.5.0",
            "_model_name": "DescriptionStyleModel",
            "_view_count": null,
            "_view_module": "@jupyter-widgets/base",
            "_view_module_version": "1.2.0",
            "_view_name": "StyleView",
            "description_width": ""
          }
        },
        "76bc7c4f9fb0404e97aff43c8180d665": {
          "model_module": "@jupyter-widgets/controls",
          "model_name": "HBoxModel",
          "model_module_version": "1.5.0",
          "state": {
            "_dom_classes": [],
            "_model_module": "@jupyter-widgets/controls",
            "_model_module_version": "1.5.0",
            "_model_name": "HBoxModel",
            "_view_count": null,
            "_view_module": "@jupyter-widgets/controls",
            "_view_module_version": "1.5.0",
            "_view_name": "HBoxView",
            "box_style": "",
            "children": [
              "IPY_MODEL_b50fa504894d49c28c7e4627c0bb2470",
              "IPY_MODEL_b61f680350d543e89425bf2c7f799859",
              "IPY_MODEL_fbee3b6b2cd441e9b5fa8dcd6a06cb24"
            ],
            "layout": "IPY_MODEL_9218960e438e4410b22ac0b433ccf943"
          }
        },
        "b50fa504894d49c28c7e4627c0bb2470": {
          "model_module": "@jupyter-widgets/controls",
          "model_name": "HTMLModel",
          "model_module_version": "1.5.0",
          "state": {
            "_dom_classes": [],
            "_model_module": "@jupyter-widgets/controls",
            "_model_module_version": "1.5.0",
            "_model_name": "HTMLModel",
            "_view_count": null,
            "_view_module": "@jupyter-widgets/controls",
            "_view_module_version": "1.5.0",
            "_view_name": "HTMLView",
            "description": "",
            "description_tooltip": null,
            "layout": "IPY_MODEL_d327adf7a5ec40e29c179328ca05af18",
            "placeholder": "​",
            "style": "IPY_MODEL_4cf1e80ac6054750ae3039abe0319a4c",
            "value": "model.safetensors: 100%"
          }
        },
        "b61f680350d543e89425bf2c7f799859": {
          "model_module": "@jupyter-widgets/controls",
          "model_name": "FloatProgressModel",
          "model_module_version": "1.5.0",
          "state": {
            "_dom_classes": [],
            "_model_module": "@jupyter-widgets/controls",
            "_model_module_version": "1.5.0",
            "_model_name": "FloatProgressModel",
            "_view_count": null,
            "_view_module": "@jupyter-widgets/controls",
            "_view_module_version": "1.5.0",
            "_view_name": "ProgressView",
            "bar_style": "success",
            "description": "",
            "description_tooltip": null,
            "layout": "IPY_MODEL_c77c2552016b456ea082a554468e4645",
            "max": 267832558,
            "min": 0,
            "orientation": "horizontal",
            "style": "IPY_MODEL_ed2c48700f62465183cb9817098a1dd2",
            "value": 267832558
          }
        },
        "fbee3b6b2cd441e9b5fa8dcd6a06cb24": {
          "model_module": "@jupyter-widgets/controls",
          "model_name": "HTMLModel",
          "model_module_version": "1.5.0",
          "state": {
            "_dom_classes": [],
            "_model_module": "@jupyter-widgets/controls",
            "_model_module_version": "1.5.0",
            "_model_name": "HTMLModel",
            "_view_count": null,
            "_view_module": "@jupyter-widgets/controls",
            "_view_module_version": "1.5.0",
            "_view_name": "HTMLView",
            "description": "",
            "description_tooltip": null,
            "layout": "IPY_MODEL_1896c0ab06a94d32b9bab0a95f9a406a",
            "placeholder": "​",
            "style": "IPY_MODEL_be03d7f5e640463888df8bc55fa3df05",
            "value": " 268M/268M [00:01&lt;00:00, 212MB/s]"
          }
        },
        "9218960e438e4410b22ac0b433ccf943": {
          "model_module": "@jupyter-widgets/base",
          "model_name": "LayoutModel",
          "model_module_version": "1.2.0",
          "state": {
            "_model_module": "@jupyter-widgets/base",
            "_model_module_version": "1.2.0",
            "_model_name": "LayoutModel",
            "_view_count": null,
            "_view_module": "@jupyter-widgets/base",
            "_view_module_version": "1.2.0",
            "_view_name": "LayoutView",
            "align_content": null,
            "align_items": null,
            "align_self": null,
            "border": null,
            "bottom": null,
            "display": null,
            "flex": null,
            "flex_flow": null,
            "grid_area": null,
            "grid_auto_columns": null,
            "grid_auto_flow": null,
            "grid_auto_rows": null,
            "grid_column": null,
            "grid_gap": null,
            "grid_row": null,
            "grid_template_areas": null,
            "grid_template_columns": null,
            "grid_template_rows": null,
            "height": null,
            "justify_content": null,
            "justify_items": null,
            "left": null,
            "margin": null,
            "max_height": null,
            "max_width": null,
            "min_height": null,
            "min_width": null,
            "object_fit": null,
            "object_position": null,
            "order": null,
            "overflow": null,
            "overflow_x": null,
            "overflow_y": null,
            "padding": null,
            "right": null,
            "top": null,
            "visibility": null,
            "width": null
          }
        },
        "d327adf7a5ec40e29c179328ca05af18": {
          "model_module": "@jupyter-widgets/base",
          "model_name": "LayoutModel",
          "model_module_version": "1.2.0",
          "state": {
            "_model_module": "@jupyter-widgets/base",
            "_model_module_version": "1.2.0",
            "_model_name": "LayoutModel",
            "_view_count": null,
            "_view_module": "@jupyter-widgets/base",
            "_view_module_version": "1.2.0",
            "_view_name": "LayoutView",
            "align_content": null,
            "align_items": null,
            "align_self": null,
            "border": null,
            "bottom": null,
            "display": null,
            "flex": null,
            "flex_flow": null,
            "grid_area": null,
            "grid_auto_columns": null,
            "grid_auto_flow": null,
            "grid_auto_rows": null,
            "grid_column": null,
            "grid_gap": null,
            "grid_row": null,
            "grid_template_areas": null,
            "grid_template_columns": null,
            "grid_template_rows": null,
            "height": null,
            "justify_content": null,
            "justify_items": null,
            "left": null,
            "margin": null,
            "max_height": null,
            "max_width": null,
            "min_height": null,
            "min_width": null,
            "object_fit": null,
            "object_position": null,
            "order": null,
            "overflow": null,
            "overflow_x": null,
            "overflow_y": null,
            "padding": null,
            "right": null,
            "top": null,
            "visibility": null,
            "width": null
          }
        },
        "4cf1e80ac6054750ae3039abe0319a4c": {
          "model_module": "@jupyter-widgets/controls",
          "model_name": "DescriptionStyleModel",
          "model_module_version": "1.5.0",
          "state": {
            "_model_module": "@jupyter-widgets/controls",
            "_model_module_version": "1.5.0",
            "_model_name": "DescriptionStyleModel",
            "_view_count": null,
            "_view_module": "@jupyter-widgets/base",
            "_view_module_version": "1.2.0",
            "_view_name": "StyleView",
            "description_width": ""
          }
        },
        "c77c2552016b456ea082a554468e4645": {
          "model_module": "@jupyter-widgets/base",
          "model_name": "LayoutModel",
          "model_module_version": "1.2.0",
          "state": {
            "_model_module": "@jupyter-widgets/base",
            "_model_module_version": "1.2.0",
            "_model_name": "LayoutModel",
            "_view_count": null,
            "_view_module": "@jupyter-widgets/base",
            "_view_module_version": "1.2.0",
            "_view_name": "LayoutView",
            "align_content": null,
            "align_items": null,
            "align_self": null,
            "border": null,
            "bottom": null,
            "display": null,
            "flex": null,
            "flex_flow": null,
            "grid_area": null,
            "grid_auto_columns": null,
            "grid_auto_flow": null,
            "grid_auto_rows": null,
            "grid_column": null,
            "grid_gap": null,
            "grid_row": null,
            "grid_template_areas": null,
            "grid_template_columns": null,
            "grid_template_rows": null,
            "height": null,
            "justify_content": null,
            "justify_items": null,
            "left": null,
            "margin": null,
            "max_height": null,
            "max_width": null,
            "min_height": null,
            "min_width": null,
            "object_fit": null,
            "object_position": null,
            "order": null,
            "overflow": null,
            "overflow_x": null,
            "overflow_y": null,
            "padding": null,
            "right": null,
            "top": null,
            "visibility": null,
            "width": null
          }
        },
        "ed2c48700f62465183cb9817098a1dd2": {
          "model_module": "@jupyter-widgets/controls",
          "model_name": "ProgressStyleModel",
          "model_module_version": "1.5.0",
          "state": {
            "_model_module": "@jupyter-widgets/controls",
            "_model_module_version": "1.5.0",
            "_model_name": "ProgressStyleModel",
            "_view_count": null,
            "_view_module": "@jupyter-widgets/base",
            "_view_module_version": "1.2.0",
            "_view_name": "StyleView",
            "bar_color": null,
            "description_width": ""
          }
        },
        "1896c0ab06a94d32b9bab0a95f9a406a": {
          "model_module": "@jupyter-widgets/base",
          "model_name": "LayoutModel",
          "model_module_version": "1.2.0",
          "state": {
            "_model_module": "@jupyter-widgets/base",
            "_model_module_version": "1.2.0",
            "_model_name": "LayoutModel",
            "_view_count": null,
            "_view_module": "@jupyter-widgets/base",
            "_view_module_version": "1.2.0",
            "_view_name": "LayoutView",
            "align_content": null,
            "align_items": null,
            "align_self": null,
            "border": null,
            "bottom": null,
            "display": null,
            "flex": null,
            "flex_flow": null,
            "grid_area": null,
            "grid_auto_columns": null,
            "grid_auto_flow": null,
            "grid_auto_rows": null,
            "grid_column": null,
            "grid_gap": null,
            "grid_row": null,
            "grid_template_areas": null,
            "grid_template_columns": null,
            "grid_template_rows": null,
            "height": null,
            "justify_content": null,
            "justify_items": null,
            "left": null,
            "margin": null,
            "max_height": null,
            "max_width": null,
            "min_height": null,
            "min_width": null,
            "object_fit": null,
            "object_position": null,
            "order": null,
            "overflow": null,
            "overflow_x": null,
            "overflow_y": null,
            "padding": null,
            "right": null,
            "top": null,
            "visibility": null,
            "width": null
          }
        },
        "be03d7f5e640463888df8bc55fa3df05": {
          "model_module": "@jupyter-widgets/controls",
          "model_name": "DescriptionStyleModel",
          "model_module_version": "1.5.0",
          "state": {
            "_model_module": "@jupyter-widgets/controls",
            "_model_module_version": "1.5.0",
            "_model_name": "DescriptionStyleModel",
            "_view_count": null,
            "_view_module": "@jupyter-widgets/base",
            "_view_module_version": "1.2.0",
            "_view_name": "StyleView",
            "description_width": ""
          }
        },
        "d9fe33585d3e4abeb61a90c4a495d228": {
          "model_module": "@jupyter-widgets/controls",
          "model_name": "HBoxModel",
          "model_module_version": "1.5.0",
          "state": {
            "_dom_classes": [],
            "_model_module": "@jupyter-widgets/controls",
            "_model_module_version": "1.5.0",
            "_model_name": "HBoxModel",
            "_view_count": null,
            "_view_module": "@jupyter-widgets/controls",
            "_view_module_version": "1.5.0",
            "_view_name": "HBoxView",
            "box_style": "",
            "children": [
              "IPY_MODEL_df2a778912fd45cbbb4858f3b8e6aa19",
              "IPY_MODEL_ff9d580b166c4c1dbbe598ca41d2f448",
              "IPY_MODEL_510ae0d39e2249f288d91a8dbaf9772d"
            ],
            "layout": "IPY_MODEL_82fdf07db1d7477a860d44dfb1f4d631"
          }
        },
        "df2a778912fd45cbbb4858f3b8e6aa19": {
          "model_module": "@jupyter-widgets/controls",
          "model_name": "HTMLModel",
          "model_module_version": "1.5.0",
          "state": {
            "_dom_classes": [],
            "_model_module": "@jupyter-widgets/controls",
            "_model_module_version": "1.5.0",
            "_model_name": "HTMLModel",
            "_view_count": null,
            "_view_module": "@jupyter-widgets/controls",
            "_view_module_version": "1.5.0",
            "_view_name": "HTMLView",
            "description": "",
            "description_tooltip": null,
            "layout": "IPY_MODEL_b24d727ace3441fc8a1f5f0f64bcea1f",
            "placeholder": "​",
            "style": "IPY_MODEL_f73ec5c9af8b452d98546ee1d8eee5ce",
            "value": "tokenizer_config.json: 100%"
          }
        },
        "ff9d580b166c4c1dbbe598ca41d2f448": {
          "model_module": "@jupyter-widgets/controls",
          "model_name": "FloatProgressModel",
          "model_module_version": "1.5.0",
          "state": {
            "_dom_classes": [],
            "_model_module": "@jupyter-widgets/controls",
            "_model_module_version": "1.5.0",
            "_model_name": "FloatProgressModel",
            "_view_count": null,
            "_view_module": "@jupyter-widgets/controls",
            "_view_module_version": "1.5.0",
            "_view_name": "ProgressView",
            "bar_style": "success",
            "description": "",
            "description_tooltip": null,
            "layout": "IPY_MODEL_e68805dfef1b40a1a42a410e47922291",
            "max": 48,
            "min": 0,
            "orientation": "horizontal",
            "style": "IPY_MODEL_45d15ca360a14f25b36bba24ea14a2e4",
            "value": 48
          }
        },
        "510ae0d39e2249f288d91a8dbaf9772d": {
          "model_module": "@jupyter-widgets/controls",
          "model_name": "HTMLModel",
          "model_module_version": "1.5.0",
          "state": {
            "_dom_classes": [],
            "_model_module": "@jupyter-widgets/controls",
            "_model_module_version": "1.5.0",
            "_model_name": "HTMLModel",
            "_view_count": null,
            "_view_module": "@jupyter-widgets/controls",
            "_view_module_version": "1.5.0",
            "_view_name": "HTMLView",
            "description": "",
            "description_tooltip": null,
            "layout": "IPY_MODEL_3b99d4e9fb1a4995bfb0ad7c781163b6",
            "placeholder": "​",
            "style": "IPY_MODEL_4e3a3f1138b74e82a3c5cd91c827e1fc",
            "value": " 48.0/48.0 [00:00&lt;00:00, 2.17kB/s]"
          }
        },
        "82fdf07db1d7477a860d44dfb1f4d631": {
          "model_module": "@jupyter-widgets/base",
          "model_name": "LayoutModel",
          "model_module_version": "1.2.0",
          "state": {
            "_model_module": "@jupyter-widgets/base",
            "_model_module_version": "1.2.0",
            "_model_name": "LayoutModel",
            "_view_count": null,
            "_view_module": "@jupyter-widgets/base",
            "_view_module_version": "1.2.0",
            "_view_name": "LayoutView",
            "align_content": null,
            "align_items": null,
            "align_self": null,
            "border": null,
            "bottom": null,
            "display": null,
            "flex": null,
            "flex_flow": null,
            "grid_area": null,
            "grid_auto_columns": null,
            "grid_auto_flow": null,
            "grid_auto_rows": null,
            "grid_column": null,
            "grid_gap": null,
            "grid_row": null,
            "grid_template_areas": null,
            "grid_template_columns": null,
            "grid_template_rows": null,
            "height": null,
            "justify_content": null,
            "justify_items": null,
            "left": null,
            "margin": null,
            "max_height": null,
            "max_width": null,
            "min_height": null,
            "min_width": null,
            "object_fit": null,
            "object_position": null,
            "order": null,
            "overflow": null,
            "overflow_x": null,
            "overflow_y": null,
            "padding": null,
            "right": null,
            "top": null,
            "visibility": null,
            "width": null
          }
        },
        "b24d727ace3441fc8a1f5f0f64bcea1f": {
          "model_module": "@jupyter-widgets/base",
          "model_name": "LayoutModel",
          "model_module_version": "1.2.0",
          "state": {
            "_model_module": "@jupyter-widgets/base",
            "_model_module_version": "1.2.0",
            "_model_name": "LayoutModel",
            "_view_count": null,
            "_view_module": "@jupyter-widgets/base",
            "_view_module_version": "1.2.0",
            "_view_name": "LayoutView",
            "align_content": null,
            "align_items": null,
            "align_self": null,
            "border": null,
            "bottom": null,
            "display": null,
            "flex": null,
            "flex_flow": null,
            "grid_area": null,
            "grid_auto_columns": null,
            "grid_auto_flow": null,
            "grid_auto_rows": null,
            "grid_column": null,
            "grid_gap": null,
            "grid_row": null,
            "grid_template_areas": null,
            "grid_template_columns": null,
            "grid_template_rows": null,
            "height": null,
            "justify_content": null,
            "justify_items": null,
            "left": null,
            "margin": null,
            "max_height": null,
            "max_width": null,
            "min_height": null,
            "min_width": null,
            "object_fit": null,
            "object_position": null,
            "order": null,
            "overflow": null,
            "overflow_x": null,
            "overflow_y": null,
            "padding": null,
            "right": null,
            "top": null,
            "visibility": null,
            "width": null
          }
        },
        "f73ec5c9af8b452d98546ee1d8eee5ce": {
          "model_module": "@jupyter-widgets/controls",
          "model_name": "DescriptionStyleModel",
          "model_module_version": "1.5.0",
          "state": {
            "_model_module": "@jupyter-widgets/controls",
            "_model_module_version": "1.5.0",
            "_model_name": "DescriptionStyleModel",
            "_view_count": null,
            "_view_module": "@jupyter-widgets/base",
            "_view_module_version": "1.2.0",
            "_view_name": "StyleView",
            "description_width": ""
          }
        },
        "e68805dfef1b40a1a42a410e47922291": {
          "model_module": "@jupyter-widgets/base",
          "model_name": "LayoutModel",
          "model_module_version": "1.2.0",
          "state": {
            "_model_module": "@jupyter-widgets/base",
            "_model_module_version": "1.2.0",
            "_model_name": "LayoutModel",
            "_view_count": null,
            "_view_module": "@jupyter-widgets/base",
            "_view_module_version": "1.2.0",
            "_view_name": "LayoutView",
            "align_content": null,
            "align_items": null,
            "align_self": null,
            "border": null,
            "bottom": null,
            "display": null,
            "flex": null,
            "flex_flow": null,
            "grid_area": null,
            "grid_auto_columns": null,
            "grid_auto_flow": null,
            "grid_auto_rows": null,
            "grid_column": null,
            "grid_gap": null,
            "grid_row": null,
            "grid_template_areas": null,
            "grid_template_columns": null,
            "grid_template_rows": null,
            "height": null,
            "justify_content": null,
            "justify_items": null,
            "left": null,
            "margin": null,
            "max_height": null,
            "max_width": null,
            "min_height": null,
            "min_width": null,
            "object_fit": null,
            "object_position": null,
            "order": null,
            "overflow": null,
            "overflow_x": null,
            "overflow_y": null,
            "padding": null,
            "right": null,
            "top": null,
            "visibility": null,
            "width": null
          }
        },
        "45d15ca360a14f25b36bba24ea14a2e4": {
          "model_module": "@jupyter-widgets/controls",
          "model_name": "ProgressStyleModel",
          "model_module_version": "1.5.0",
          "state": {
            "_model_module": "@jupyter-widgets/controls",
            "_model_module_version": "1.5.0",
            "_model_name": "ProgressStyleModel",
            "_view_count": null,
            "_view_module": "@jupyter-widgets/base",
            "_view_module_version": "1.2.0",
            "_view_name": "StyleView",
            "bar_color": null,
            "description_width": ""
          }
        },
        "3b99d4e9fb1a4995bfb0ad7c781163b6": {
          "model_module": "@jupyter-widgets/base",
          "model_name": "LayoutModel",
          "model_module_version": "1.2.0",
          "state": {
            "_model_module": "@jupyter-widgets/base",
            "_model_module_version": "1.2.0",
            "_model_name": "LayoutModel",
            "_view_count": null,
            "_view_module": "@jupyter-widgets/base",
            "_view_module_version": "1.2.0",
            "_view_name": "LayoutView",
            "align_content": null,
            "align_items": null,
            "align_self": null,
            "border": null,
            "bottom": null,
            "display": null,
            "flex": null,
            "flex_flow": null,
            "grid_area": null,
            "grid_auto_columns": null,
            "grid_auto_flow": null,
            "grid_auto_rows": null,
            "grid_column": null,
            "grid_gap": null,
            "grid_row": null,
            "grid_template_areas": null,
            "grid_template_columns": null,
            "grid_template_rows": null,
            "height": null,
            "justify_content": null,
            "justify_items": null,
            "left": null,
            "margin": null,
            "max_height": null,
            "max_width": null,
            "min_height": null,
            "min_width": null,
            "object_fit": null,
            "object_position": null,
            "order": null,
            "overflow": null,
            "overflow_x": null,
            "overflow_y": null,
            "padding": null,
            "right": null,
            "top": null,
            "visibility": null,
            "width": null
          }
        },
        "4e3a3f1138b74e82a3c5cd91c827e1fc": {
          "model_module": "@jupyter-widgets/controls",
          "model_name": "DescriptionStyleModel",
          "model_module_version": "1.5.0",
          "state": {
            "_model_module": "@jupyter-widgets/controls",
            "_model_module_version": "1.5.0",
            "_model_name": "DescriptionStyleModel",
            "_view_count": null,
            "_view_module": "@jupyter-widgets/base",
            "_view_module_version": "1.2.0",
            "_view_name": "StyleView",
            "description_width": ""
          }
        },
        "d27d8aa3ebf2435b96a1c9559d21a13f": {
          "model_module": "@jupyter-widgets/controls",
          "model_name": "HBoxModel",
          "model_module_version": "1.5.0",
          "state": {
            "_dom_classes": [],
            "_model_module": "@jupyter-widgets/controls",
            "_model_module_version": "1.5.0",
            "_model_name": "HBoxModel",
            "_view_count": null,
            "_view_module": "@jupyter-widgets/controls",
            "_view_module_version": "1.5.0",
            "_view_name": "HBoxView",
            "box_style": "",
            "children": [
              "IPY_MODEL_b5357214edcb49ef98e94ff5c3d147c3",
              "IPY_MODEL_ac8c8f19db214651a0dca6a5b971e6cf",
              "IPY_MODEL_3343c9c737684625a8bffb30d1805dcb"
            ],
            "layout": "IPY_MODEL_af3312c78cb046dab136bbae7ff15063"
          }
        },
        "b5357214edcb49ef98e94ff5c3d147c3": {
          "model_module": "@jupyter-widgets/controls",
          "model_name": "HTMLModel",
          "model_module_version": "1.5.0",
          "state": {
            "_dom_classes": [],
            "_model_module": "@jupyter-widgets/controls",
            "_model_module_version": "1.5.0",
            "_model_name": "HTMLModel",
            "_view_count": null,
            "_view_module": "@jupyter-widgets/controls",
            "_view_module_version": "1.5.0",
            "_view_name": "HTMLView",
            "description": "",
            "description_tooltip": null,
            "layout": "IPY_MODEL_9cf2316637c64a80aa21cea500ddf0f7",
            "placeholder": "​",
            "style": "IPY_MODEL_84445c126fe540fabb5917b4ca6c2a04",
            "value": "vocab.txt: 100%"
          }
        },
        "ac8c8f19db214651a0dca6a5b971e6cf": {
          "model_module": "@jupyter-widgets/controls",
          "model_name": "FloatProgressModel",
          "model_module_version": "1.5.0",
          "state": {
            "_dom_classes": [],
            "_model_module": "@jupyter-widgets/controls",
            "_model_module_version": "1.5.0",
            "_model_name": "FloatProgressModel",
            "_view_count": null,
            "_view_module": "@jupyter-widgets/controls",
            "_view_module_version": "1.5.0",
            "_view_name": "ProgressView",
            "bar_style": "success",
            "description": "",
            "description_tooltip": null,
            "layout": "IPY_MODEL_7279c8e14551452085fc01b197a3cea0",
            "max": 231508,
            "min": 0,
            "orientation": "horizontal",
            "style": "IPY_MODEL_6c85fbb74451466f960cb4a69cfa2423",
            "value": 231508
          }
        },
        "3343c9c737684625a8bffb30d1805dcb": {
          "model_module": "@jupyter-widgets/controls",
          "model_name": "HTMLModel",
          "model_module_version": "1.5.0",
          "state": {
            "_dom_classes": [],
            "_model_module": "@jupyter-widgets/controls",
            "_model_module_version": "1.5.0",
            "_model_name": "HTMLModel",
            "_view_count": null,
            "_view_module": "@jupyter-widgets/controls",
            "_view_module_version": "1.5.0",
            "_view_name": "HTMLView",
            "description": "",
            "description_tooltip": null,
            "layout": "IPY_MODEL_6b282c17eb034a99b188d8ba90081c7f",
            "placeholder": "​",
            "style": "IPY_MODEL_d73b46ab911f43fc91876f1b1dafcaea",
            "value": " 232k/232k [00:00&lt;00:00, 1.86MB/s]"
          }
        },
        "af3312c78cb046dab136bbae7ff15063": {
          "model_module": "@jupyter-widgets/base",
          "model_name": "LayoutModel",
          "model_module_version": "1.2.0",
          "state": {
            "_model_module": "@jupyter-widgets/base",
            "_model_module_version": "1.2.0",
            "_model_name": "LayoutModel",
            "_view_count": null,
            "_view_module": "@jupyter-widgets/base",
            "_view_module_version": "1.2.0",
            "_view_name": "LayoutView",
            "align_content": null,
            "align_items": null,
            "align_self": null,
            "border": null,
            "bottom": null,
            "display": null,
            "flex": null,
            "flex_flow": null,
            "grid_area": null,
            "grid_auto_columns": null,
            "grid_auto_flow": null,
            "grid_auto_rows": null,
            "grid_column": null,
            "grid_gap": null,
            "grid_row": null,
            "grid_template_areas": null,
            "grid_template_columns": null,
            "grid_template_rows": null,
            "height": null,
            "justify_content": null,
            "justify_items": null,
            "left": null,
            "margin": null,
            "max_height": null,
            "max_width": null,
            "min_height": null,
            "min_width": null,
            "object_fit": null,
            "object_position": null,
            "order": null,
            "overflow": null,
            "overflow_x": null,
            "overflow_y": null,
            "padding": null,
            "right": null,
            "top": null,
            "visibility": null,
            "width": null
          }
        },
        "9cf2316637c64a80aa21cea500ddf0f7": {
          "model_module": "@jupyter-widgets/base",
          "model_name": "LayoutModel",
          "model_module_version": "1.2.0",
          "state": {
            "_model_module": "@jupyter-widgets/base",
            "_model_module_version": "1.2.0",
            "_model_name": "LayoutModel",
            "_view_count": null,
            "_view_module": "@jupyter-widgets/base",
            "_view_module_version": "1.2.0",
            "_view_name": "LayoutView",
            "align_content": null,
            "align_items": null,
            "align_self": null,
            "border": null,
            "bottom": null,
            "display": null,
            "flex": null,
            "flex_flow": null,
            "grid_area": null,
            "grid_auto_columns": null,
            "grid_auto_flow": null,
            "grid_auto_rows": null,
            "grid_column": null,
            "grid_gap": null,
            "grid_row": null,
            "grid_template_areas": null,
            "grid_template_columns": null,
            "grid_template_rows": null,
            "height": null,
            "justify_content": null,
            "justify_items": null,
            "left": null,
            "margin": null,
            "max_height": null,
            "max_width": null,
            "min_height": null,
            "min_width": null,
            "object_fit": null,
            "object_position": null,
            "order": null,
            "overflow": null,
            "overflow_x": null,
            "overflow_y": null,
            "padding": null,
            "right": null,
            "top": null,
            "visibility": null,
            "width": null
          }
        },
        "84445c126fe540fabb5917b4ca6c2a04": {
          "model_module": "@jupyter-widgets/controls",
          "model_name": "DescriptionStyleModel",
          "model_module_version": "1.5.0",
          "state": {
            "_model_module": "@jupyter-widgets/controls",
            "_model_module_version": "1.5.0",
            "_model_name": "DescriptionStyleModel",
            "_view_count": null,
            "_view_module": "@jupyter-widgets/base",
            "_view_module_version": "1.2.0",
            "_view_name": "StyleView",
            "description_width": ""
          }
        },
        "7279c8e14551452085fc01b197a3cea0": {
          "model_module": "@jupyter-widgets/base",
          "model_name": "LayoutModel",
          "model_module_version": "1.2.0",
          "state": {
            "_model_module": "@jupyter-widgets/base",
            "_model_module_version": "1.2.0",
            "_model_name": "LayoutModel",
            "_view_count": null,
            "_view_module": "@jupyter-widgets/base",
            "_view_module_version": "1.2.0",
            "_view_name": "LayoutView",
            "align_content": null,
            "align_items": null,
            "align_self": null,
            "border": null,
            "bottom": null,
            "display": null,
            "flex": null,
            "flex_flow": null,
            "grid_area": null,
            "grid_auto_columns": null,
            "grid_auto_flow": null,
            "grid_auto_rows": null,
            "grid_column": null,
            "grid_gap": null,
            "grid_row": null,
            "grid_template_areas": null,
            "grid_template_columns": null,
            "grid_template_rows": null,
            "height": null,
            "justify_content": null,
            "justify_items": null,
            "left": null,
            "margin": null,
            "max_height": null,
            "max_width": null,
            "min_height": null,
            "min_width": null,
            "object_fit": null,
            "object_position": null,
            "order": null,
            "overflow": null,
            "overflow_x": null,
            "overflow_y": null,
            "padding": null,
            "right": null,
            "top": null,
            "visibility": null,
            "width": null
          }
        },
        "6c85fbb74451466f960cb4a69cfa2423": {
          "model_module": "@jupyter-widgets/controls",
          "model_name": "ProgressStyleModel",
          "model_module_version": "1.5.0",
          "state": {
            "_model_module": "@jupyter-widgets/controls",
            "_model_module_version": "1.5.0",
            "_model_name": "ProgressStyleModel",
            "_view_count": null,
            "_view_module": "@jupyter-widgets/base",
            "_view_module_version": "1.2.0",
            "_view_name": "StyleView",
            "bar_color": null,
            "description_width": ""
          }
        },
        "6b282c17eb034a99b188d8ba90081c7f": {
          "model_module": "@jupyter-widgets/base",
          "model_name": "LayoutModel",
          "model_module_version": "1.2.0",
          "state": {
            "_model_module": "@jupyter-widgets/base",
            "_model_module_version": "1.2.0",
            "_model_name": "LayoutModel",
            "_view_count": null,
            "_view_module": "@jupyter-widgets/base",
            "_view_module_version": "1.2.0",
            "_view_name": "LayoutView",
            "align_content": null,
            "align_items": null,
            "align_self": null,
            "border": null,
            "bottom": null,
            "display": null,
            "flex": null,
            "flex_flow": null,
            "grid_area": null,
            "grid_auto_columns": null,
            "grid_auto_flow": null,
            "grid_auto_rows": null,
            "grid_column": null,
            "grid_gap": null,
            "grid_row": null,
            "grid_template_areas": null,
            "grid_template_columns": null,
            "grid_template_rows": null,
            "height": null,
            "justify_content": null,
            "justify_items": null,
            "left": null,
            "margin": null,
            "max_height": null,
            "max_width": null,
            "min_height": null,
            "min_width": null,
            "object_fit": null,
            "object_position": null,
            "order": null,
            "overflow": null,
            "overflow_x": null,
            "overflow_y": null,
            "padding": null,
            "right": null,
            "top": null,
            "visibility": null,
            "width": null
          }
        },
        "d73b46ab911f43fc91876f1b1dafcaea": {
          "model_module": "@jupyter-widgets/controls",
          "model_name": "DescriptionStyleModel",
          "model_module_version": "1.5.0",
          "state": {
            "_model_module": "@jupyter-widgets/controls",
            "_model_module_version": "1.5.0",
            "_model_name": "DescriptionStyleModel",
            "_view_count": null,
            "_view_module": "@jupyter-widgets/base",
            "_view_module_version": "1.2.0",
            "_view_name": "StyleView",
            "description_width": ""
          }
        }
      }
    }
  },
  "cells": [
    {
      "cell_type": "markdown",
      "metadata": {
        "id": "view-in-github",
        "colab_type": "text"
      },
      "source": [
        "<a href=\"https://colab.research.google.com/github/A-Jeswin-Simon/Final-assignment-3/blob/main/Copy_of_Assignment_2.ipynb\" target=\"_parent\"><img src=\"https://colab.research.google.com/assets/colab-badge.svg\" alt=\"Open In Colab\"/></a>"
      ]
    },
    {
      "cell_type": "markdown",
      "source": [
        "# Sentiment Analysis\n",
        "\n",
        "Using the previous web scraping methods and the current milestone, we have built this block of code that can retrieve, score, and plot sentiments accordingly.\n",
        "\n",
        "This code snippet fetches product reviews from a Snapdeal product page. It uses the requests library to make an HTTP GET request to the URL, then parses the HTML content of the page with BeautifulSoup. The find_all method identifies all div elements with the class user-review, where the reviews are likely stored. The text content of these reviews is extracted, stripped of extra whitespace, and returned as a list."
      ],
      "metadata": {
        "id": "JKjbWclO1-xP"
      }
    },
    {
      "cell_type": "code",
      "execution_count": 1,
      "metadata": {
        "colab": {
          "base_uri": "https://localhost:8080/"
        },
        "id": "xgwvW3AZ-CO2",
        "outputId": "ff97d3de-825c-48d0-92f8-3db053fe89c7"
      },
      "outputs": [
        {
          "output_type": "stream",
          "name": "stdout",
          "text": [
            "Scraping completed and data saved to 'snapdeal_product_reviews.csv'.\n"
          ]
        }
      ],
      "source": [
        "import requests\n",
        "from bs4 import BeautifulSoup\n",
        "import pandas as pd\n",
        "\n",
        "def scrape_snapdeal_reviews():\n",
        "    headers = {\n",
        "        'User-Agent': 'Mozilla/5.0 (Windows NT 10.0; Win64; x64) AppleWebKit/537.36 (KHTML, like Gecko) Chrome/94.0.4606.81 Safari/537.36'\n",
        "    }\n",
        "    #Trial with different URLs\n",
        "    url ='https://www.snapdeal.com/product/plastic-quick-cutter-vegetable-cutter/633340889475/reviews?page=13&sortBy=HELPFUL#defRevPDP'\n",
        "    #url ='https://www.snapdeal.com/product/plastic-quick-cutter-vegetable-cutter/633340889475/reviews?page=12&sortBy=HELPFUL#defRevPDP'\n",
        "    #url = 'https://www.snapdeal.com/product/plastic-quick-cutter-vegetable-cutter/633340889475/reviews?page=2&sortBy=HELPFUL#defRevPDP'\n",
        "    response = requests.get(url, headers=headers)\n",
        "\n",
        "    if response.status_code != 200:\n",
        "        print(f\"Failed to retrieve the webpage: {response.status_code}\")\n",
        "        return\n",
        "\n",
        "    soup = BeautifulSoup(response.text, 'html.parser')\n",
        "\n",
        "    # Extract reviews\n",
        "    reviews = soup.find_all('div', class_='user-review')\n",
        "    if not reviews:\n",
        "        print(\"No reviews found. The site may be loading reviews dynamically with JavaScript.\")\n",
        "        return\n",
        "\n",
        "    review_data = []\n",
        "\n",
        "    for review in reviews:\n",
        "        # Extract rating\n",
        "        rating = review.find_all('i', class_='sd-icon sd-icon-star active')\n",
        "        review_rating = len(rating)\n",
        "\n",
        "        # Extract review title\n",
        "        title_tag = review.find('div', class_='head')\n",
        "\n",
        "        review_title = title_tag.text.strip() if title_tag else 'No Title'\n",
        "\n",
        "        # Extract user name and date\n",
        "        user_date_tag = review.find('div', class_='_reviewUserName')\n",
        "        if user_date_tag:\n",
        "            user_date_text = user_date_tag.text.strip()\n",
        "            user_name, review_date = user_date_text.split(' on ') if ' on ' in user_date_text else (user_date_text, 'No Date')\n",
        "        else:\n",
        "            user_name = 'Anonymous'\n",
        "            review_date = 'No Date'\n",
        "\n",
        "        # Extract review text\n",
        "        text_tag = review.find('p')\n",
        "        review_text = text_tag.text.strip() if text_tag else 'No Review Text'\n",
        "        if review_date==\"No Date\":\n",
        "          pass\n",
        "        else:\n",
        "          review_data.append({\n",
        "              'Rating': review_rating,\n",
        "              'Review Title': review_title,\n",
        "              'User Name': user_name,\n",
        "              'Date': review_date,\n",
        "              'Review Text': review_text\n",
        "          })\n",
        "\n",
        "    # Save to CSV\n",
        "    df = pd.DataFrame(review_data)\n",
        "    df.to_csv('snapdeal_product_reviews.csv', index=False)\n",
        "    print(\"Scraping completed and data saved to 'snapdeal_product_reviews.csv'.\")\n",
        "\n",
        "# Execute the scraping function\n",
        "scrape_snapdeal_reviews()"
      ]
    },
    {
      "cell_type": "markdown",
      "source": [
        "**Importing Necessary Header files <br>**\n",
        "**Also calling the sentiment analysis model<br>**\n",
        "This snippet imports necessary libraries for data handling, visualization, and sentiment analysis. It initializes a sentiment analysis pipeline using a pre-trained DistilBERT model, optimized for positive and negative sentiment classification."
      ],
      "metadata": {
        "id": "k1aTyph0ye0w"
      }
    },
    {
      "cell_type": "code",
      "source": [
        "import pandas as pd\n",
        "from transformers import pipeline\n",
        "import matplotlib.pyplot as plt\n",
        "\n",
        "sentiment_analyzer = pipeline(\n",
        "    \"sentiment-analysis\", model=\"distilbert-base-uncased-finetuned-sst-2-english\", device=0\n",
        ")"
      ],
      "metadata": {
        "id": "vSUoheqVxvIc",
        "colab": {
          "base_uri": "https://localhost:8080/",
          "height": 286,
          "referenced_widgets": [
            "a1770c0b947f4a59a95441bf49f6a69d",
            "39ec7658f7894423b4ca463c96b3d2fd",
            "1c0b235b39ec42dc9855c07fe032eb65",
            "0ead968ebf384fe98bedc1a24456256d",
            "64ca8ffc5d224dde90a3935470f0e079",
            "af9d675a3692453db1d0ee8464465f73",
            "eceff6a292004064be444143d477df6d",
            "da46c16dc79e463daedb887070e3965b",
            "34d2ecdab8f74c9298a6f55c9d07ce4d",
            "9a38217d9f1648f38e2cd45a36df8e67",
            "0a41175e7fa5486284b1da59a66482b2",
            "76bc7c4f9fb0404e97aff43c8180d665",
            "b50fa504894d49c28c7e4627c0bb2470",
            "b61f680350d543e89425bf2c7f799859",
            "fbee3b6b2cd441e9b5fa8dcd6a06cb24",
            "9218960e438e4410b22ac0b433ccf943",
            "d327adf7a5ec40e29c179328ca05af18",
            "4cf1e80ac6054750ae3039abe0319a4c",
            "c77c2552016b456ea082a554468e4645",
            "ed2c48700f62465183cb9817098a1dd2",
            "1896c0ab06a94d32b9bab0a95f9a406a",
            "be03d7f5e640463888df8bc55fa3df05",
            "d9fe33585d3e4abeb61a90c4a495d228",
            "df2a778912fd45cbbb4858f3b8e6aa19",
            "ff9d580b166c4c1dbbe598ca41d2f448",
            "510ae0d39e2249f288d91a8dbaf9772d",
            "82fdf07db1d7477a860d44dfb1f4d631",
            "b24d727ace3441fc8a1f5f0f64bcea1f",
            "f73ec5c9af8b452d98546ee1d8eee5ce",
            "e68805dfef1b40a1a42a410e47922291",
            "45d15ca360a14f25b36bba24ea14a2e4",
            "3b99d4e9fb1a4995bfb0ad7c781163b6",
            "4e3a3f1138b74e82a3c5cd91c827e1fc",
            "d27d8aa3ebf2435b96a1c9559d21a13f",
            "b5357214edcb49ef98e94ff5c3d147c3",
            "ac8c8f19db214651a0dca6a5b971e6cf",
            "3343c9c737684625a8bffb30d1805dcb",
            "af3312c78cb046dab136bbae7ff15063",
            "9cf2316637c64a80aa21cea500ddf0f7",
            "84445c126fe540fabb5917b4ca6c2a04",
            "7279c8e14551452085fc01b197a3cea0",
            "6c85fbb74451466f960cb4a69cfa2423",
            "6b282c17eb034a99b188d8ba90081c7f",
            "d73b46ab911f43fc91876f1b1dafcaea"
          ]
        },
        "outputId": "b7b7cb8b-9e29-4239-d39c-401a1d0e041b"
      },
      "execution_count": 2,
      "outputs": [
        {
          "output_type": "stream",
          "name": "stderr",
          "text": [
            "/usr/local/lib/python3.11/dist-packages/huggingface_hub/utils/_auth.py:94: UserWarning: \n",
            "The secret `HF_TOKEN` does not exist in your Colab secrets.\n",
            "To authenticate with the Hugging Face Hub, create a token in your settings tab (https://huggingface.co/settings/tokens), set it as secret in your Google Colab and restart your session.\n",
            "You will be able to reuse this secret in all of your notebooks.\n",
            "Please note that authentication is recommended but still optional to access public models or datasets.\n",
            "  warnings.warn(\n"
          ]
        },
        {
          "output_type": "display_data",
          "data": {
            "text/plain": [
              "config.json:   0%|          | 0.00/629 [00:00<?, ?B/s]"
            ],
            "application/vnd.jupyter.widget-view+json": {
              "version_major": 2,
              "version_minor": 0,
              "model_id": "a1770c0b947f4a59a95441bf49f6a69d"
            }
          },
          "metadata": {}
        },
        {
          "output_type": "display_data",
          "data": {
            "text/plain": [
              "model.safetensors:   0%|          | 0.00/268M [00:00<?, ?B/s]"
            ],
            "application/vnd.jupyter.widget-view+json": {
              "version_major": 2,
              "version_minor": 0,
              "model_id": "76bc7c4f9fb0404e97aff43c8180d665"
            }
          },
          "metadata": {}
        },
        {
          "output_type": "display_data",
          "data": {
            "text/plain": [
              "tokenizer_config.json:   0%|          | 0.00/48.0 [00:00<?, ?B/s]"
            ],
            "application/vnd.jupyter.widget-view+json": {
              "version_major": 2,
              "version_minor": 0,
              "model_id": "d9fe33585d3e4abeb61a90c4a495d228"
            }
          },
          "metadata": {}
        },
        {
          "output_type": "display_data",
          "data": {
            "text/plain": [
              "vocab.txt:   0%|          | 0.00/232k [00:00<?, ?B/s]"
            ],
            "application/vnd.jupyter.widget-view+json": {
              "version_major": 2,
              "version_minor": 0,
              "model_id": "d27d8aa3ebf2435b96a1c9559d21a13f"
            }
          },
          "metadata": {}
        },
        {
          "output_type": "stream",
          "name": "stderr",
          "text": [
            "Device set to use cpu\n"
          ]
        }
      ]
    },
    {
      "cell_type": "markdown",
      "source": [
        "**Function to convert the date into 'Date Time ' Datatype<br>**\n",
        "This function reads a CSV file containing review data and converts the \"Date\" column into a datetime format for easier processing. It ensures that dates are in a usable format for analysis. Finally, it returns the processed data."
      ],
      "metadata": {
        "id": "hGx-hUGlyo7c"
      }
    },
    {
      "cell_type": "code",
      "source": [
        "def preprocess_review_data(file_path):\n",
        "    data = pd.read_csv(file_path)\n",
        "    data[\"Date\"] = pd.to_datetime(data[\"Date\"])\n",
        "    return data"
      ],
      "metadata": {
        "id": "PTeG_j4ryErl"
      },
      "execution_count": 3,
      "outputs": []
    },
    {
      "cell_type": "markdown",
      "source": [
        "**Function which analyses the sentiment<br>**\n",
        "This function determines the sentiment of a given text using the sentiment analysis model. It analyzes the text and returns the sentiment label, such as \"POSITIVE\" or \"NEGATIVE.\" If an error occurs during analysis, it logs the error message and assigns a default sentiment of \"NEUTRAL.\" This ensures robust handling of any issues."
      ],
      "metadata": {
        "id": "MDvPhXwvywMY"
      }
    },
    {
      "cell_type": "code",
      "source": [
        "def get_sentiment(text):\n",
        "    try:\n",
        "        result = sentiment_analyzer(text)\n",
        "        print(f\"Sentiment result for '{text}': {result}\")\n",
        "        sentiment = result[0][\"label\"]\n",
        "        return sentiment\n",
        "    except Exception as e:\n",
        "        print(f\"Error analyzing sentiment for text: {text}, Error: {e}\")\n",
        "        return \"NEUTRAL\""
      ],
      "metadata": {
        "id": "OCJlUB_7yF4Z"
      },
      "execution_count": 4,
      "outputs": []
    },
    {
      "cell_type": "markdown",
      "source": [
        "**This function rates the sentiment score and decides whether it is positive , negative or Neutral<br>**\n",
        "This function prepares the dataset for sentiment trend analysis. It converts the Date column into a datetime format for easier grouping. The Sentiment_Label column is mapped to numerical values (1 for positive, -1 for negative), enabling computation. Sentiment scores are averaged for each date using groupby and returned as a DataFrame."
      ],
      "metadata": {
        "id": "mIWRV6Jky4xj"
      }
    },
    {
      "cell_type": "code",
      "source": [
        "def aggregate_sentiment(sentiment_df):\n",
        "    # Create separate columns for positive and negative sentiment counts\n",
        "    sentiment_df[\"positive\"] = sentiment_df[\"sentiment\"].apply(lambda x: 1 if x == \"POSITIVE\" else 0)\n",
        "    sentiment_df[\"negative\"] = sentiment_df[\"sentiment\"].apply(lambda x: 1 if x == \"NEGATIVE\" else 0)\n",
        "\n",
        "    # Group by Date and calculate the total counts for positive and negative\n",
        "    sentiment_agg = sentiment_df.groupby(\"Date\")[[\"positive\", \"negative\"]].sum().reset_index()\n",
        "    return sentiment_agg"
      ],
      "metadata": {
        "id": "gHvrfksGyJgq"
      },
      "execution_count": 5,
      "outputs": []
    },
    {
      "cell_type": "markdown",
      "source": [
        "**This function plots the sentiment into a Histogram<br>**\n",
        "This function creates a histogram to visualize the distribution of sentiments in the provided DataFrame. It counts the occurrences of each sentiment label (positive or negative), then plots a bar chart where positive sentiments are shown in green and negative ones in red. The chart includes labels for clarity and is displayed using plt.show()."
      ],
      "metadata": {
        "id": "qxzVoKl3yL6g"
      }
    },
    {
      "cell_type": "code",
      "source": [
        "def plot_sentiment_histogram(sentiment_df):\n",
        "    sentiment_counts = sentiment_df[\"sentiment\"].value_counts()\n",
        "    sentiments = sentiment_counts.index.tolist()\n",
        "    counts = sentiment_counts.values.tolist()\n",
        "    plt.bar(sentiments, counts, color=[\"green\", \"red\"])  # Positive (green) and Negative (red)\n",
        "    plt.title(\"Sentiment Histogram\")\n",
        "    plt.xlabel(\"Sentiment\")\n",
        "    plt.ylabel(\"Count\")\n",
        "    plt.show()"
      ],
      "metadata": {
        "id": "NxSkG5V2yPcW"
      },
      "execution_count": 6,
      "outputs": []
    },
    {
      "cell_type": "markdown",
      "source": [
        "**This function plots a regression analysis of the Data obtained<br>**\n",
        "This snippet fits a linear regression model to the sentiment trend data, providing a trend line. The independent variable x represents the index of the dates, while the dependent variable y contains the sentiment scores. The model's predictions are plotted as a red line alongside the scatter plot of actual sentiment scores for visual comparison."
      ],
      "metadata": {
        "id": "aZgNU1P2zGS8"
      }
    },
    {
      "cell_type": "code",
      "source": [
        "from sklearn.linear_model import LinearRegression\n",
        "\n",
        "def plot_sentiment_with_regression(sentiment_agg):\n",
        "    sentiment_agg[\"ordinal_date\"] = sentiment_agg[\"Date\"].apply(lambda x: x.toordinal())\n",
        "    X = sentiment_agg[\"ordinal_date\"].values.reshape(-1, 1)\n",
        "    y = sentiment_agg[\"positive\"].values\n",
        "    model = LinearRegression()\n",
        "    model.fit(X, y)\n",
        "    y_pred = model.predict(X)\n",
        "    plt.scatter(sentiment_agg[\"Date\"], sentiment_agg[\"positive\"], color=\"green\", label=\"Positive Sentiment\")\n",
        "    plt.scatter(sentiment_agg[\"Date\"], sentiment_agg[\"negative\"], color=\"red\", label=\"Negative Sentiment\")\n",
        "    plt.plot(sentiment_agg[\"Date\"], y_pred, color=\"blue\", label=\"Regression Line (Positive)\")\n",
        "    plt.title(\"Sentiment Analysis with Regression Line\")\n",
        "    plt.xlabel(\"Date\")\n",
        "    plt.ylabel(\"Sentiment Count\")\n",
        "    plt.legend()\n",
        "    plt.xticks(rotation=45)\n",
        "    plt.grid()\n",
        "    plt.show()"
      ],
      "metadata": {
        "id": "7cSbGhYvySRV"
      },
      "execution_count": 7,
      "outputs": []
    },
    {
      "cell_type": "markdown",
      "source": [
        "**The main Function<br>**\n",
        "This main function orchestrates the entire sentiment analysis process. It first preprocesses the review data, then applies sentiment analysis to each review's text. Next, it aggregates the sentiment data by date and prints the results. It also generates a sentiment histogram and performs a regression analysis to show sentiment trends over time."
      ],
      "metadata": {
        "id": "0JfIfP-CzM8o"
      }
    },
    {
      "cell_type": "code",
      "source": [
        "def main(file_path):\n",
        "    review_data = preprocess_review_data(file_path)\n",
        "    review_data[\"sentiment\"] = review_data[\"Review Text\"].apply(get_sentiment)\n",
        "    sentiment_agg = aggregate_sentiment(review_data)\n",
        "\n",
        "    print(\"Aggregated Sentiment DataFrame:\")\n",
        "    print(sentiment_agg)\n",
        "    print(\"Histogram : \")\n",
        "    plot_sentiment_histogram(review_data)\n",
        "\n",
        "    print(\"Analysis of the reviews : \")\n",
        "    plot_sentiment_with_regression(sentiment_agg)"
      ],
      "metadata": {
        "id": "IXSgC9pqyWnY"
      },
      "execution_count": 8,
      "outputs": []
    },
    {
      "cell_type": "code",
      "source": [
        "if __name__ == \"__main__\":\n",
        "    file_path = \"snapdeal_product_reviews.csv\"\n",
        "    main(file_path)"
      ],
      "metadata": {
        "id": "8RS1r4gEyc4t",
        "colab": {
          "base_uri": "https://localhost:8080/",
          "height": 1000
        },
        "outputId": "974a0aa1-e615-4270-dee2-0de7154569fb"
      },
      "execution_count": 9,
      "outputs": [
        {
          "output_type": "stream",
          "name": "stdout",
          "text": [
            "Sentiment result for 'Product is fine. But not as per the picture in the site. But no harm done. Quality is ok.': [{'label': 'POSITIVE', 'score': 0.9996289014816284}]\n",
            "Sentiment result for 'Quality is bad. Once  drop is enough to break into pieces': [{'label': 'NEGATIVE', 'score': 0.9997909665107727}]\n",
            "Sentiment result for 'It makes lot of unexpected voice while chopping it feels it's going to break soon': [{'label': 'NEGATIVE', 'score': 0.9480164647102356}]\n",
            "Sentiment result for 'Lid is not fitting properly other wise ok': [{'label': 'NEGATIVE', 'score': 0.9996139407157898}]\n",
            "Sentiment result for 'I would like to return this \"HOMETALES COMPACT MA.. FDUXCHOPE as it's of poor quality': [{'label': 'NEGATIVE', 'score': 0.9994812607765198}]\n",
            "Sentiment result for 'Nothing more than toy.': [{'label': 'NEGATIVE', 'score': 0.9966464638710022}]\n",
            "Sentiment result for 'This quick cutter is very useful. Nice product.': [{'label': 'POSITIVE', 'score': 0.9996765851974487}]\n",
            "Sentiment result for 'The blade of this product is not sharp.': [{'label': 'NEGATIVE', 'score': 0.9997215867042542}]\n",
            "Sentiment result for 'The blades are in a rectangular shape ,in the picture the blades are curve      \n",
            "Overall product is good 👍': [{'label': 'POSITIVE', 'score': 0.9992004036903381}]\n",
            "Sentiment result for 'Bad product..': [{'label': 'NEGATIVE', 'score': 0.9997765421867371}]\n",
            "Aggregated Sentiment DataFrame:\n",
            "        Date  positive  negative\n",
            "0 2021-07-20         1         0\n",
            "1 2021-07-24         0         1\n",
            "2 2021-08-19         1         0\n",
            "3 2021-12-10         0         1\n",
            "4 2022-01-06         0         1\n",
            "5 2022-01-14         1         0\n",
            "6 2022-02-02         0         1\n",
            "7 2022-03-11         0         1\n",
            "8 2023-09-18         0         1\n",
            "9 2024-05-20         0         1\n",
            "Histogram : \n"
          ]
        },
        {
          "output_type": "display_data",
          "data": {
            "text/plain": [
              "<Figure size 640x480 with 1 Axes>"
            ],
            "image/png": "[encoded data removed]"
          },
          "metadata": {}
        },
        {
          "output_type": "stream",
          "name": "stdout",
          "text": [
            "Analysis of the reviews : \n"
          ]
        },
        {
          "output_type": "display_data",
          "data": {
            "text/plain": [
              "<Figure size 640x480 with 1 Axes>"
            ],
            "image/png": "[encoded data removed]"
          },
          "metadata": {}
        }
      ]
    },
    {
      "cell_type": "markdown",
      "source": [
        "**Inferences : <br>**\n",
        "The code generates a sentiment analysis of product reviews, producing three key outputs:\n",
        "\n",
        "Sentiment Histogram: A bar chart displaying the distribution of positive (green) and negative (red) sentiments, showing the overall sentiment of the reviews.\n",
        "\n",
        "Aggregated Sentiment Data: A table summarizing the counts of positive and negative sentiments grouped by date, revealing trends over time.\n",
        "\n",
        "Sentiment with Regression Line: A scatter plot with a regression line to visualize sentiment trends, helping identify whether sentiment has improved or declined over time.\n",
        "\n",
        "These outputs offer insights into the overall reception of the product and sentiment trends over time."
      ],
      "metadata": {
        "id": "ecTwILCc65SO"
      }
    },
    {
      "cell_type": "code",
      "source": [
        "!pip install streamlit\n",
        "!pip install pyngrok"
      ],
      "metadata": {
        "colab": {
          "base_uri": "https://localhost:8080/"
        },
        "id": "IL1H3626BTGw",
        "outputId": "48da3df4-9c5f-4f64-cdc4-ab9a313d6e87"
      },
      "execution_count": 12,
      "outputs": [
        {
          "output_type": "stream",
          "name": "stdout",
          "text": [
            "Collecting streamlit\n",
            "  Downloading streamlit-1.41.1-py2.py3-none-any.whl.metadata (8.5 kB)\n",
            "Requirement already satisfied: altair<6,>=4.0 in /usr/local/lib/python3.11/dist-packages (from streamlit) (5.5.0)\n",
            "Requirement already satisfied: blinker<2,>=1.0.0 in /usr/local/lib/python3.11/dist-packages (from streamlit) (1.9.0)\n",
            "Requirement already satisfied: cachetools<6,>=4.0 in /usr/local/lib/python3.11/dist-packages (from streamlit) (5.5.1)\n",
            "Requirement already satisfied: click<9,>=7.0 in /usr/local/lib/python3.11/dist-packages (from streamlit) (8.1.8)\n",
            "Requirement already satisfied: numpy<3,>=1.23 in /usr/local/lib/python3.11/dist-packages (from streamlit) (1.26.4)\n",
            "Requirement already satisfied: packaging<25,>=20 in /usr/local/lib/python3.11/dist-packages (from streamlit) (24.2)\n",
            "Requirement already satisfied: pandas<3,>=1.4.0 in /usr/local/lib/python3.11/dist-packages (from streamlit) (2.2.2)\n",
            "Requirement already satisfied: pillow<12,>=7.1.0 in /usr/local/lib/python3.11/dist-packages (from streamlit) (11.1.0)\n",
            "Requirement already satisfied: protobuf<6,>=3.20 in /usr/local/lib/python3.11/dist-packages (from streamlit) (4.25.5)\n",
            "Requirement already satisfied: pyarrow>=7.0 in /usr/local/lib/python3.11/dist-packages (from streamlit) (17.0.0)\n",
            "Requirement already satisfied: requests<3,>=2.27 in /usr/local/lib/python3.11/dist-packages (from streamlit) (2.32.3)\n",
            "Requirement already satisfied: rich<14,>=10.14.0 in /usr/local/lib/python3.11/dist-packages (from streamlit) (13.9.4)\n",
            "Requirement already satisfied: tenacity<10,>=8.1.0 in /usr/local/lib/python3.11/dist-packages (from streamlit) (9.0.0)\n",
            "Requirement already satisfied: toml<2,>=0.10.1 in /usr/local/lib/python3.11/dist-packages (from streamlit) (0.10.2)\n",
            "Requirement already satisfied: typing-extensions<5,>=4.3.0 in /usr/local/lib/python3.11/dist-packages (from streamlit) (4.12.2)\n",
            "Collecting watchdog<7,>=2.1.5 (from streamlit)\n",
            "  Downloading watchdog-6.0.0-py3-none-manylinux2014_x86_64.whl.metadata (44 kB)\n",
            "\u001b[2K     \u001b[90m━━━━━━━━━━━━━━━━━━━━━━━━━━━━━━━━━━━━━━━━\u001b[0m \u001b[32m44.3/44.3 kB\u001b[0m \u001b[31m3.3 MB/s\u001b[0m eta \u001b[36m0:00:00\u001b[0m\n",
            "\u001b[?25hRequirement already satisfied: gitpython!=3.1.19,<4,>=3.0.7 in /usr/local/lib/python3.11/dist-packages (from streamlit) (3.1.44)\n",
            "Collecting pydeck<1,>=0.8.0b4 (from streamlit)\n",
            "  Downloading pydeck-0.9.1-py2.py3-none-any.whl.metadata (4.1 kB)\n",
            "Requirement already satisfied: tornado<7,>=6.0.3 in /usr/local/lib/python3.11/dist-packages (from streamlit) (6.3.3)\n",
            "Requirement already satisfied: jinja2 in /usr/local/lib/python3.11/dist-packages (from altair<6,>=4.0->streamlit) (3.1.5)\n",
            "Requirement already satisfied: jsonschema>=3.0 in /usr/local/lib/python3.11/dist-packages (from altair<6,>=4.0->streamlit) (4.23.0)\n",
            "Requirement already satisfied: narwhals>=1.14.2 in /usr/local/lib/python3.11/dist-packages (from altair<6,>=4.0->streamlit) (1.23.0)\n",
            "Requirement already satisfied: gitdb<5,>=4.0.1 in /usr/local/lib/python3.11/dist-packages (from gitpython!=3.1.19,<4,>=3.0.7->streamlit) (4.0.12)\n",
            "Requirement already satisfied: python-dateutil>=2.8.2 in /usr/local/lib/python3.11/dist-packages (from pandas<3,>=1.4.0->streamlit) (2.8.2)\n",
            "Requirement already satisfied: pytz>=2020.1 in /usr/local/lib/python3.11/dist-packages (from pandas<3,>=1.4.0->streamlit) (2024.2)\n",
            "Requirement already satisfied: tzdata>=2022.7 in /usr/local/lib/python3.11/dist-packages (from pandas<3,>=1.4.0->streamlit) (2025.1)\n",
            "Requirement already satisfied: charset-normalizer<4,>=2 in /usr/local/lib/python3.11/dist-packages (from requests<3,>=2.27->streamlit) (3.4.1)\n",
            "Requirement already satisfied: idna<4,>=2.5 in /usr/local/lib/python3.11/dist-packages (from requests<3,>=2.27->streamlit) (3.10)\n",
            "Requirement already satisfied: urllib3<3,>=1.21.1 in /usr/local/lib/python3.11/dist-packages (from requests<3,>=2.27->streamlit) (2.3.0)\n",
            "Requirement already satisfied: certifi>=2017.4.17 in /usr/local/lib/python3.11/dist-packages (from requests<3,>=2.27->streamlit) (2024.12.14)\n",
            "Requirement already satisfied: markdown-it-py>=2.2.0 in /usr/local/lib/python3.11/dist-packages (from rich<14,>=10.14.0->streamlit) (3.0.0)\n",
            "Requirement already satisfied: pygments<3.0.0,>=2.13.0 in /usr/local/lib/python3.11/dist-packages (from rich<14,>=10.14.0->streamlit) (2.18.0)\n",
            "Requirement already satisfied: smmap<6,>=3.0.1 in /usr/local/lib/python3.11/dist-packages (from gitdb<5,>=4.0.1->gitpython!=3.1.19,<4,>=3.0.7->streamlit) (5.0.2)\n",
            "Requirement already satisfied: MarkupSafe>=2.0 in /usr/local/lib/python3.11/dist-packages (from jinja2->altair<6,>=4.0->streamlit) (3.0.2)\n",
            "Requirement already satisfied: attrs>=22.2.0 in /usr/local/lib/python3.11/dist-packages (from jsonschema>=3.0->altair<6,>=4.0->streamlit) (24.3.0)\n",
            "Requirement already satisfied: jsonschema-specifications>=2023.03.6 in /usr/local/lib/python3.11/dist-packages (from jsonschema>=3.0->altair<6,>=4.0->streamlit) (2024.10.1)\n",
            "Requirement already satisfied: referencing>=0.28.4 in /usr/local/lib/python3.11/dist-packages (from jsonschema>=3.0->altair<6,>=4.0->streamlit) (0.36.1)\n",
            "Requirement already satisfied: rpds-py>=0.7.1 in /usr/local/lib/python3.11/dist-packages (from jsonschema>=3.0->altair<6,>=4.0->streamlit) (0.22.3)\n",
            "Requirement already satisfied: mdurl~=0.1 in /usr/local/lib/python3.11/dist-packages (from markdown-it-py>=2.2.0->rich<14,>=10.14.0->streamlit) (0.1.2)\n",
            "Requirement already satisfied: six>=1.5 in /usr/local/lib/python3.11/dist-packages (from python-dateutil>=2.8.2->pandas<3,>=1.4.0->streamlit) (1.17.0)\n",
            "Downloading streamlit-1.41.1-py2.py3-none-any.whl (9.1 MB)\n",
            "\u001b[2K   \u001b[90m━━━━━━━━━━━━━━━━━━━━━━━━━━━━━━━━━━━━━━━━\u001b[0m \u001b[32m9.1/9.1 MB\u001b[0m \u001b[31m54.1 MB/s\u001b[0m eta \u001b[36m0:00:00\u001b[0m\n",
            "\u001b[?25hDownloading pydeck-0.9.1-py2.py3-none-any.whl (6.9 MB)\n",
            "\u001b[2K   \u001b[90m━━━━━━━━━━━━━━━━━━━━━━━━━━━━━━━━━━━━━━━━\u001b[0m \u001b[32m6.9/6.9 MB\u001b[0m \u001b[31m48.2 MB/s\u001b[0m eta \u001b[36m0:00:00\u001b[0m\n",
            "\u001b[?25hDownloading watchdog-6.0.0-py3-none-manylinux2014_x86_64.whl (79 kB)\n",
            "\u001b[2K   \u001b[90m━━━━━━━━━━━━━━━━━━━━━━━━━━━━━━━━━━━━━━━━\u001b[0m \u001b[32m79.1/79.1 kB\u001b[0m \u001b[31m4.6 MB/s\u001b[0m eta \u001b[36m0:00:00\u001b[0m\n",
            "\u001b[?25hInstalling collected packages: watchdog, pydeck, streamlit\n",
            "Successfully installed pydeck-0.9.1 streamlit-1.41.1 watchdog-6.0.0\n",
            "Collecting pyngrok\n",
            "  Downloading pyngrok-7.2.3-py3-none-any.whl.metadata (8.7 kB)\n",
            "Requirement already satisfied: PyYAML>=5.1 in /usr/local/lib/python3.11/dist-packages (from pyngrok) (6.0.2)\n",
            "Downloading pyngrok-7.2.3-py3-none-any.whl (23 kB)\n",
            "Installing collected packages: pyngrok\n",
            "Successfully installed pyngrok-7.2.3\n"
          ]
        }
      ]
    },
    {
      "cell_type": "code",
      "source": [
        "import streamlit as st\n",
        "import pandas as pd\n",
        "import matplotlib.pyplot as plt\n",
        "import seaborn as sns\n",
        "\n",
        "# Load the scraped data\n",
        "csv_file = \"snapdeal_product_reviews.csv\"  # Ensure this matches the scraper output\n",
        "try:\n",
        "    df = pd.read_csv(csv_file)\n",
        "except FileNotFoundError:\n",
        "    st.error(\"The scraped_data.csv file is missing. Please run the scraper first.\")\n",
        "    st.stop()\n",
        "\n",
        "# Streamlit App\n",
        "st.title(\"Web Scraped Data Dashboard\")\n",
        "st.write(\"This app displays data scraped from a website along with visualizations.\")\n",
        "\n",
        "# Display the data table\n",
        "st.header(\"Scraped Data Table\")\n",
        "st.dataframe(df)\n",
        "\n",
        "# Visualizations\n",
        "st.header(\"Visualizations\")\n",
        "\n",
        "# Example: Word count plot for 'Description'\n",
        "if \"Description\" in df.columns:\n",
        "    st.subheader(\"Word Count Distribution in Descriptions\")\n",
        "    df[\"Word Count\"] = df[\"Description\"].apply(lambda x: len(str(x).split()))\n",
        "    fig, ax = plt.subplots()\n",
        "    sns.histplot(df[\"Word Count\"], bins=10, kde=True, ax=ax)\n",
        "    ax.set_title(\"Word Count Distribution\")\n",
        "    ax.set_xlabel(\"Word Count\")\n",
        "    ax.set_ylabel(\"Frequency\")\n",
        "    st.pyplot(fig)\n",
        "\n",
        "# Example: Bar chart for top titles\n",
        "if \"Title\" in df.columns:\n",
        "    st.subheader(\"Top 10 Titles\")\n",
        "    title_counts = df[\"Title\"].value_counts().head(10)\n",
        "    fig, ax = plt.subplots()\n",
        "    title_counts.plot(kind=\"bar\", ax=ax, color=\"skyblue\")\n",
        "    ax.set_title(\"Top 10 Titles\")\n",
        "    ax.set_ylabel(\"Frequency\")\n",
        "    st.pyplot(fig)\n",
        "\n",
        "# Option to download the CSV\n",
        "st.download_button(\n",
        "    label=\"Download Scraped Data as CSV\",\n",
        "    data=df.to_csv(index=False),\n",
        "    file_name=\"scraped_data.csv\",\n",
        "    mime=\"text/csv\",\n",
        ")\n"
      ],
      "metadata": {
        "colab": {
          "base_uri": "https://localhost:8080/"
        },
        "id": "CrbH0mCBAsNv",
        "outputId": "f444e5c2-44c7-4df0-d13a-db3995e2457b"
      },
      "execution_count": 13,
      "outputs": [
        {
          "output_type": "stream",
          "name": "stderr",
          "text": [
            "2025-01-28 12:54:12.979 WARNING streamlit.runtime.scriptrunner_utils.script_run_context: Thread 'MainThread': missing ScriptRunContext! This warning can be ignored when running in bare mode.\n",
            "2025-01-28 12:54:13.650 \n",
            "  \u001b[33m\u001b[1mWarning:\u001b[0m to view this Streamlit app on a browser, run it with the following\n",
            "  command:\n",
            "\n",
            "    streamlit run /usr/local/lib/python3.11/dist-packages/colab_kernel_launcher.py [ARGUMENTS]\n",
            "2025-01-28 12:54:13.653 Thread 'MainThread': missing ScriptRunContext! This warning can be ignored when running in bare mode.\n",
            "2025-01-28 12:54:13.655 Thread 'MainThread': missing ScriptRunContext! This warning can be ignored when running in bare mode.\n",
            "2025-01-28 12:54:13.667 Thread 'MainThread': missing ScriptRunContext! This warning can be ignored when running in bare mode.\n",
            "2025-01-28 12:54:13.668 Thread 'MainThread': missing ScriptRunContext! This warning can be ignored when running in bare mode.\n",
            "2025-01-28 12:54:13.672 Thread 'MainThread': missing ScriptRunContext! This warning can be ignored when running in bare mode.\n",
            "2025-01-28 12:54:13.678 Thread 'MainThread': missing ScriptRunContext! This warning can be ignored when running in bare mode.\n",
            "2025-01-28 12:54:13.681 Thread 'MainThread': missing ScriptRunContext! This warning can be ignored when running in bare mode.\n",
            "2025-01-28 12:54:13.779 Thread 'MainThread': missing ScriptRunContext! This warning can be ignored when running in bare mode.\n",
            "2025-01-28 12:54:13.787 Thread 'MainThread': missing ScriptRunContext! This warning can be ignored when running in bare mode.\n",
            "2025-01-28 12:54:13.789 Thread 'MainThread': missing ScriptRunContext! This warning can be ignored when running in bare mode.\n",
            "2025-01-28 12:54:13.792 Thread 'MainThread': missing ScriptRunContext! This warning can be ignored when running in bare mode.\n",
            "2025-01-28 12:54:13.811 Thread 'MainThread': missing ScriptRunContext! This warning can be ignored when running in bare mode.\n",
            "2025-01-28 12:54:13.814 Thread 'MainThread': missing ScriptRunContext! This warning can be ignored when running in bare mode.\n",
            "2025-01-28 12:54:13.820 Thread 'MainThread': missing ScriptRunContext! This warning can be ignored when running in bare mode.\n",
            "2025-01-28 12:54:13.826 Thread 'MainThread': missing ScriptRunContext! This warning can be ignored when running in bare mode.\n",
            "2025-01-28 12:54:13.833 Thread 'MainThread': missing ScriptRunContext! This warning can be ignored when running in bare mode.\n",
            "2025-01-28 12:54:13.837 Thread 'MainThread': missing ScriptRunContext! This warning can be ignored when running in bare mode.\n"
          ]
        },
        {
          "output_type": "execute_result",
          "data": {
            "text/plain": [
              "False"
            ]
          },
          "metadata": {},
          "execution_count": 13
        }
      ]
    },
    {
      "cell_type": "code",
      "source": [
        "!npm install -g localtunnel\n"
      ],
      "metadata": {
        "colab": {
          "base_uri": "https://localhost:8080/"
        },
        "id": "XyOo1ZO8B8wr",
        "outputId": "389d1856-195d-45a4-8921-8c8a4382d041"
      },
      "execution_count": 15,
      "outputs": [
        {
          "output_type": "stream",
          "name": "stdout",
          "text": [
            "\u001b[1G\u001b[0K⠙\u001b[1G\u001b[0K⠹\u001b[1G\u001b[0K⠸\u001b[1G\u001b[0K⠼\u001b[1G\u001b[0K⠴\u001b[1G\u001b[0K⠦\u001b[1G\u001b[0K⠧\u001b[1G\u001b[0K⠇\u001b[1G\u001b[0K⠏\u001b[1G\u001b[0K⠋\u001b[1G\u001b[0K⠙\u001b[1G\u001b[0K⠹\u001b[1G\u001b[0K⠸\u001b[1G\u001b[0K⠼\u001b[1G\u001b[0K⠴\u001b[1G\u001b[0K⠦\u001b[1G\u001b[0K⠧\u001b[1G\u001b[0K⠇\u001b[1G\u001b[0K⠏\u001b[1G\u001b[0K⠋\u001b[1G\u001b[0K⠙\u001b[1G\u001b[0K⠹\u001b[1G\u001b[0K⠸\u001b[1G\u001b[0K⠼\u001b[1G\u001b[0K⠴\u001b[1G\u001b[0K⠦\u001b[1G\u001b[0K⠧\u001b[1G\u001b[0K⠇\u001b[1G\u001b[0K⠏\u001b[1G\u001b[0K⠋\u001b[1G\u001b[0K⠙\u001b[1G\u001b[0K⠹\u001b[1G\u001b[0K⠸\u001b[1G\u001b[0K⠼\u001b[1G\u001b[0K\n",
            "added 22 packages in 4s\n",
            "\u001b[1G\u001b[0K⠼\u001b[1G\u001b[0K\n",
            "\u001b[1G\u001b[0K⠼\u001b[1G\u001b[0K3 packages are looking for funding\n",
            "\u001b[1G\u001b[0K⠼\u001b[1G\u001b[0K  run `npm fund` for details\n",
            "\u001b[1G\u001b[0K⠼\u001b[1G\u001b[0K"
          ]
        }
      ]
    },
    {
      "cell_type": "code",
      "source": [
        "!streamlit run app.py & npx localtunnel --port 8501\n"
      ],
      "metadata": {
        "colab": {
          "base_uri": "https://localhost:8080/"
        },
        "id": "cxmgffomBhbD",
        "outputId": "67668a99-af8f-4bb0-f426-fc8281292a5a"
      },
      "execution_count": 17,
      "outputs": [
        {
          "output_type": "stream",
          "name": "stdout",
          "text": [
            "Usage: streamlit run [OPTIONS] TARGET [ARGS]...\n",
            "Try 'streamlit run --help' for help.\n",
            "\n",
            "Error: Invalid value: File does not exist: app.py\n",
            "\u001b[1G\u001b[0K⠙\u001b[1G\u001b[0K⠹\u001b[1G\u001b[0K⠸\u001b[1G\u001b[0K⠼\u001b[1G\u001b[0K⠴\u001b[1G\u001b[0K⠦\u001b[1G\u001b[0K⠧\u001b[1G\u001b[0K⠇\u001b[1G\u001b[0Kyour url is: https://tender-trees-join.loca.lt\n",
            "^C\n"
          ]
        }
      ]
    },
    {
      "cell_type": "code",
      "source": [
        "%%writefile app.py\n",
        "import streamlit as st\n",
        "import pandas as pd\n",
        "from textblob import TextBlob\n",
        "import matplotlib.pyplot as plt\n",
        "\n",
        "# Title of the app\n",
        "st.title(\"Snapdeal Product Reviews Analysis\")\n",
        "\n",
        "# Upload CSV file\n",
        "uploaded_file = st.file_uploader(\"Upload your CSV file\", type=[\"csv\"])\n",
        "\n",
        "if uploaded_file:\n",
        "    # Load the dataset\n",
        "    df = pd.read_csv(uploaded_file)\n",
        "    st.subheader(\"Dataset Overview\")\n",
        "    st.write(df.head())\n",
        "    st.write(\"Dataset Shape:\", df.shape)\n",
        "\n",
        "    # Basic statistics\n",
        "    st.subheader(\"Basic Statistics\")\n",
        "    st.write(df.describe(include=\"all\"))\n",
        "\n",
        "    # Ratings distribution\n",
        "    st.subheader(\"Ratings Distribution\")\n",
        "    if \"Rating\" in df.columns:\n",
        "        plt.figure(figsize=(8, 4))\n",
        "        df[\"Rating\"].value_counts().sort_index().plot(kind=\"bar\", color=\"skyblue\")\n",
        "        plt.title(\"Ratings Distribution\")\n",
        "        plt.xlabel(\"Ratings\")\n",
        "        plt.ylabel(\"Frequency\")\n",
        "        st.pyplot(plt.gcf())\n",
        "\n",
        "    # Word count analysis\n",
        "    st.subheader(\"Word Count Analysis\")\n",
        "    if \"Review\" in df.columns:\n",
        "        df[\"Word Count\"] = df[\"Review\"].astype(str).apply(lambda x: len(x.split()))\n",
        "        st.write(\"Word Count Statistics:\", df[\"Word Count\"].describe())\n",
        "        st.bar_chart(df[\"Word Count\"].value_counts())\n",
        "\n",
        "    # Sentiment analysis\n",
        "    st.subheader(\"Sentiment Analysis\")\n",
        "    if \"Review\" in df.columns:\n",
        "        df[\"Polarity\"] = df[\"Review\"].astype(str).apply(lambda x: TextBlob(x).sentiment.polarity)\n",
        "        st.write(\"Polarity Statistics:\", df[\"Polarity\"].describe())\n",
        "        st.bar_chart(df[\"Polarity\"].value_counts(bins=5, sort=False))\n",
        "        st.download_button(\"Download Processed Data\", df.to_csv(index=False), file_name=\"processed_reviews.csv\")\n",
        "\n",
        "else:\n",
        "    st.warning(\"Please upload a CSV file to proceed.\")\n"
      ],
      "metadata": {
        "colab": {
          "base_uri": "https://localhost:8080/"
        },
        "id": "x5QhVOnZCwc6",
        "outputId": "5a2a6de1-85f3-419f-b987-1bd7f45feb17"
      },
      "execution_count": 19,
      "outputs": [
        {
          "output_type": "stream",
          "name": "stdout",
          "text": [
            "Writing app.py\n"
          ]
        }
      ]
    },
    {
      "cell_type": "code",
      "source": [
        "!npm install -g localtunnel\n",
        "!wget -q -O - https://loca.lt/mytunnelpassword\n",
        "\n"
      ],
      "metadata": {
        "colab": {
          "base_uri": "https://localhost:8080/"
        },
        "id": "LdpDyxUiEtfe",
        "outputId": "2010c6eb-6159-4737-faa2-c4090a4ea499"
      },
      "execution_count": 25,
      "outputs": [
        {
          "output_type": "stream",
          "name": "stdout",
          "text": [
            "\u001b[1G\u001b[0K⠙\u001b[1G\u001b[0K⠹\u001b[1G\u001b[0K⠸\u001b[1G\u001b[0K⠼\u001b[1G\u001b[0K⠴\u001b[1G\u001b[0K⠦\u001b[1G\u001b[0K⠧\u001b[1G\u001b[0K⠇\u001b[1G\u001b[0K⠏\u001b[1G\u001b[0K⠋\u001b[1G\u001b[0K⠙\u001b[1G\u001b[0K⠹\u001b[1G\u001b[0K⠸\u001b[1G\u001b[0K⠼\u001b[1G\u001b[0K\n",
            "changed 22 packages in 2s\n",
            "\u001b[1G\u001b[0K⠼\u001b[1G\u001b[0K\n",
            "\u001b[1G\u001b[0K⠼\u001b[1G\u001b[0K3 packages are looking for funding\n",
            "\u001b[1G\u001b[0K⠼\u001b[1G\u001b[0K  run `npm fund` for details\n",
            "\u001b[1G\u001b[0K⠼\u001b[1G\u001b[0K34.168.146.215"
          ]
        }
      ]
    },
    {
      "cell_type": "code",
      "source": [
        "!wget -q -O - https://loca.lt/mytunnelpassword\n",
        "\n",
        "!streamlit run app.py &>/content/logs.txt &\n",
        "!lt --port 8501 --subdomain snapdealreviews\n"
      ],
      "metadata": {
        "colab": {
          "base_uri": "https://localhost:8080/"
        },
        "id": "D23_1Z9lFEjK",
        "outputId": "4ec53f50-b056-4040-d39b-aa3ec575064c"
      },
      "execution_count": 27,
      "outputs": [
        {
          "output_type": "stream",
          "name": "stdout",
          "text": [
            "34.168.146.215your url is: https://snapdealreviews.loca.lt\n",
            "^C\n"
          ]
        }
      ]
    }
  ]
}